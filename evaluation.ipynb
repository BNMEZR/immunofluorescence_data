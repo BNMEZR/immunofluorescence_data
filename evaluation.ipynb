{
 "cells": [
  {
   "cell_type": "code",
   "execution_count": null,
   "id": "55d711d3",
   "metadata": {},
   "outputs": [],
   "source": [
    "import tensorflow as tf \n",
    "from tensorflow.keras.layers import Input, Lambda, Dense, Flatten\n",
    "from tensorflow.keras.layers import Dense, Flatten, GlobalMaxPooling2D, Dropout, BatchNormalization\n",
    "from tensorflow.keras.models import Model\n",
    "from tensorflow.keras.optimizers import RMSprop, Adam, Adadelta\n",
    "from tensorflow.keras.applications.resnet50 import ResNet50\n",
    "from tensorflow.keras.applications.resnet50 import preprocess_input\n",
    "from tensorflow.keras.preprocessing import image\n",
    "from tensorflow.keras.preprocessing.image import ImageDataGenerator,load_img\n",
    "from tensorflow.keras.models import Sequential\n",
    "from tensorflow.keras.callbacks import CSVLogger\n",
    "import numpy as np\n",
    "from glob import glob\n",
    "import matplotlib.pyplot as plt"
   ]
  },
  {
   "cell_type": "code",
   "execution_count": null,
   "id": "1068b60c",
   "metadata": {},
   "outputs": [],
   "source": [
    "path = \"/home/path/New-data-test/\"\n",
    "test_data_dir = path + 'data_red/test'\n"
   ]
  },
  {
   "cell_type": "code",
   "execution_count": null,
   "id": "f578f48a",
   "metadata": {},
   "outputs": [],
   "source": [
    "model.load_weights(filepath)\n"
   ]
  },
  {
   "cell_type": "code",
   "execution_count": null,
   "id": "385b5938",
   "metadata": {},
   "outputs": [],
   "source": [
    "probabilities = model.predict_generator(test_generator, TEST_SIZE)\n",
    "#probabilities = model.predict_generator(test_generator, 15)\n",
    "for index, probability in enumerate(probabilities):\n",
    " #   index1=index+50\n",
    "    index\n",
    "    image_path = test_data_dir + \"/\" +test_generator.filenames[index]\n",
    "    img = mpimg.imread(image_path)\n",
    "    plt.imshow(img)\n",
    "    if probability > 5:\n",
    "        plt.title(\"%.2f\" % (probability[0]*100) + \"% tum\")\n",
    "    else:\n",
    "        plt.title(\"%.2f\" % ((1-probability[0])*100) + \"% sain\")\n",
    "    plt.show()"
   ]
  },
  {
   "cell_type": "code",
   "execution_count": null,
   "id": "07ddef5f",
   "metadata": {},
   "outputs": [],
   "source": [
    "score, acc = model.evaluate( test_generator)\n",
    "print('Test score:', score)\n",
    "print('Test accuracy:', acc)"
   ]
  }
 ],
 "metadata": {
  "kernelspec": {
   "display_name": "Python 3 (ipykernel)",
   "language": "python",
   "name": "python3"
  },
  "language_info": {
   "codemirror_mode": {
    "name": "ipython",
    "version": 3
   },
   "file_extension": ".py",
   "mimetype": "text/x-python",
   "name": "python",
   "nbconvert_exporter": "python",
   "pygments_lexer": "ipython3",
   "version": "3.7.13"
  }
 },
 "nbformat": 4,
 "nbformat_minor": 5
}
